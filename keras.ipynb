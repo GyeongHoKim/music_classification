{
 "cells": [
  {
   "cell_type": "code",
   "execution_count": 2,
   "metadata": {},
   "outputs": [
    {
     "name": "stderr",
     "output_type": "stream",
     "text": [
      "C:\\Users\\LG\\Anaconda3\\lib\\site-packages\\h5py\\__init__.py:36: FutureWarning: Conversion of the second argument of issubdtype from `float` to `np.floating` is deprecated. In future, it will be treated as `np.float64 == np.dtype(float).type`.\n",
      "  from ._conv import register_converters as _register_converters\n",
      "Using TensorFlow backend.\n"
     ]
    }
   ],
   "source": [
    "import pandas as pd\n",
    "import numpy as np\n",
    "from keras.preprocessing.image import load_img"
   ]
  },
  {
   "cell_type": "markdown",
   "metadata": {},
   "source": [
    "# track_id를 6자리 정수로 만들기"
   ]
  },
  {
   "cell_type": "code",
   "execution_count": 3,
   "metadata": {},
   "outputs": [
    {
     "name": "stderr",
     "output_type": "stream",
     "text": [
      "C:\\Users\\LG\\Anaconda3\\lib\\site-packages\\ipykernel_launcher.py:4: SettingWithCopyWarning: \n",
      "A value is trying to be set on a copy of a slice from a DataFrame\n",
      "\n",
      "See the caveats in the documentation: http://pandas.pydata.org/pandas-docs/stable/indexing.html#indexing-view-versus-copy\n",
      "  after removing the cwd from sys.path.\n",
      "C:\\Users\\LG\\Anaconda3\\lib\\site-packages\\pandas\\core\\indexing.py:194: SettingWithCopyWarning: \n",
      "A value is trying to be set on a copy of a slice from a DataFrame\n",
      "\n",
      "See the caveats in the documentation: http://pandas.pydata.org/pandas-docs/stable/indexing.html#indexing-view-versus-copy\n",
      "  self._setitem_with_indexer(indexer, value)\n"
     ]
    },
    {
     "data": {
      "text/plain": [
       "(7997, 2)"
      ]
     },
     "execution_count": 3,
     "metadata": {},
     "output_type": "execute_result"
    }
   ],
   "source": [
    "train_df = pd.read_csv(\"Label2.csv\")\n",
    "num = 0\n",
    "for column in train_df[\"track_id\"]:\n",
    "    train_df[\"track_id\"][num] = (str(column).zfill(6) + \"A\")\n",
    "    num += 1\n",
    "a = 0\n",
    "for column in train_df[\"track_id\"]:\n",
    "    train_df[\"track_id\"][a] = train_df[\"track_id\"][a][0:6]\n",
    "    a += 1\n",
    "    \n",
    "train_df.shape\n",
    "\n",
    "#df = pd.DataFrame(train_df)\n",
    "#df.to_csv(\"new_id(1).csv\")"
   ]
  },
  {
   "cell_type": "markdown",
   "metadata": {},
   "source": [
    "# Image Load"
   ]
  },
  {
   "cell_type": "code",
   "execution_count": 4,
   "metadata": {},
   "outputs": [],
   "source": [
    "train_df[\"images\"] = [np.array(load_img(\"../fma-master/img_all_edit/{}.jpg\".format(idx))) for idx in np.unique(train_df[\"track_id\"])]"
   ]
  },
  {
   "cell_type": "code",
   "execution_count": 5,
   "metadata": {
    "scrolled": true
   },
   "outputs": [
    {
     "data": {
      "text/plain": [
       "2"
      ]
     },
     "execution_count": 5,
     "metadata": {},
     "output_type": "execute_result"
    }
   ],
   "source": [
    "train_df.ndim"
   ]
  },
  {
   "cell_type": "code",
   "execution_count": 6,
   "metadata": {},
   "outputs": [
    {
     "data": {
      "text/plain": [
       "(7997, 3)"
      ]
     },
     "execution_count": 6,
     "metadata": {},
     "output_type": "execute_result"
    }
   ],
   "source": [
    "train_df.shape"
   ]
  },
  {
   "cell_type": "code",
   "execution_count": 7,
   "metadata": {
    "scrolled": true
   },
   "outputs": [
    {
     "data": {
      "text/html": [
       "<div>\n",
       "<style scoped>\n",
       "    .dataframe tbody tr th:only-of-type {\n",
       "        vertical-align: middle;\n",
       "    }\n",
       "\n",
       "    .dataframe tbody tr th {\n",
       "        vertical-align: top;\n",
       "    }\n",
       "\n",
       "    .dataframe thead th {\n",
       "        text-align: right;\n",
       "    }\n",
       "</style>\n",
       "<table border=\"1\" class=\"dataframe\">\n",
       "  <thead>\n",
       "    <tr style=\"text-align: right;\">\n",
       "      <th></th>\n",
       "      <th>track_id</th>\n",
       "      <th>genre_top</th>\n",
       "      <th>images</th>\n",
       "    </tr>\n",
       "  </thead>\n",
       "  <tbody>\n",
       "    <tr>\n",
       "      <th>0</th>\n",
       "      <td>000002</td>\n",
       "      <td>Hip-Hop</td>\n",
       "      <td>[[[117, 43, 68], [70, 23, 69], [13, 0, 56], [6...</td>\n",
       "    </tr>\n",
       "    <tr>\n",
       "      <th>1</th>\n",
       "      <td>000005</td>\n",
       "      <td>Hip-Hop</td>\n",
       "      <td>[[[0, 2, 85], [46, 1, 84], [79, 4, 73], [53, 7...</td>\n",
       "    </tr>\n",
       "    <tr>\n",
       "      <th>2</th>\n",
       "      <td>000010</td>\n",
       "      <td>Pop</td>\n",
       "      <td>[[[57, 24, 81], [85, 24, 93], [87, 16, 94], [3...</td>\n",
       "    </tr>\n",
       "    <tr>\n",
       "      <th>3</th>\n",
       "      <td>000140</td>\n",
       "      <td>Folk</td>\n",
       "      <td>[[[21, 0, 49], [0, 0, 25], [0, 9, 9], [0, 6, 0...</td>\n",
       "    </tr>\n",
       "    <tr>\n",
       "      <th>4</th>\n",
       "      <td>000141</td>\n",
       "      <td>Folk</td>\n",
       "      <td>[[[0, 0, 4], [0, 0, 4], [0, 0, 4], [0, 0, 4], ...</td>\n",
       "    </tr>\n",
       "    <tr>\n",
       "      <th>5</th>\n",
       "      <td>000148</td>\n",
       "      <td>Experimental</td>\n",
       "      <td>[[[0, 5, 27], [0, 0, 25], [5, 6, 37], [2, 0, 3...</td>\n",
       "    </tr>\n",
       "    <tr>\n",
       "      <th>6</th>\n",
       "      <td>000182</td>\n",
       "      <td>Rock</td>\n",
       "      <td>[[[0, 12, 0], [0, 7, 0], [7, 0, 11], [25, 0, 3...</td>\n",
       "    </tr>\n",
       "    <tr>\n",
       "      <th>7</th>\n",
       "      <td>000190</td>\n",
       "      <td>Folk</td>\n",
       "      <td>[[[1, 4, 0], [2, 3, 7], [0, 0, 14], [0, 0, 21]...</td>\n",
       "    </tr>\n",
       "    <tr>\n",
       "      <th>8</th>\n",
       "      <td>000193</td>\n",
       "      <td>Folk</td>\n",
       "      <td>[[[9, 1, 40], [23, 6, 48], [13, 0, 39], [0, 0,...</td>\n",
       "    </tr>\n",
       "    <tr>\n",
       "      <th>9</th>\n",
       "      <td>000194</td>\n",
       "      <td>Folk</td>\n",
       "      <td>[[[5, 0, 15], [7, 0, 17], [8, 0, 18], [7, 0, 1...</td>\n",
       "    </tr>\n",
       "    <tr>\n",
       "      <th>10</th>\n",
       "      <td>000197</td>\n",
       "      <td>Folk</td>\n",
       "      <td>[[[0, 4, 0], [0, 1, 3], [0, 0, 12], [0, 0, 14]...</td>\n",
       "    </tr>\n",
       "    <tr>\n",
       "      <th>11</th>\n",
       "      <td>000200</td>\n",
       "      <td>Folk</td>\n",
       "      <td>[[[0, 0, 12], [0, 0, 9], [0, 0, 4], [1, 1, 0],...</td>\n",
       "    </tr>\n",
       "    <tr>\n",
       "      <th>12</th>\n",
       "      <td>000203</td>\n",
       "      <td>Folk</td>\n",
       "      <td>[[[27, 0, 30], [41, 8, 63], [20, 0, 50], [6, 0...</td>\n",
       "    </tr>\n",
       "    <tr>\n",
       "      <th>13</th>\n",
       "      <td>000204</td>\n",
       "      <td>Folk</td>\n",
       "      <td>[[[4, 0, 20], [19, 18, 60], [19, 20, 85], [1, ...</td>\n",
       "    </tr>\n",
       "    <tr>\n",
       "      <th>14</th>\n",
       "      <td>000207</td>\n",
       "      <td>Folk</td>\n",
       "      <td>[[[2, 2, 0], [2, 0, 10], [2, 0, 24], [1, 0, 17...</td>\n",
       "    </tr>\n",
       "    <tr>\n",
       "      <th>15</th>\n",
       "      <td>000210</td>\n",
       "      <td>Folk</td>\n",
       "      <td>[[[8, 4, 5], [7, 3, 2], [6, 3, 0], [4, 1, 0], ...</td>\n",
       "    </tr>\n",
       "    <tr>\n",
       "      <th>16</th>\n",
       "      <td>000211</td>\n",
       "      <td>Folk</td>\n",
       "      <td>[[[53, 5, 43], [23, 0, 44], [7, 0, 44], [0, 1,...</td>\n",
       "    </tr>\n",
       "    <tr>\n",
       "      <th>17</th>\n",
       "      <td>000212</td>\n",
       "      <td>Folk</td>\n",
       "      <td>[[[41, 15, 76], [54, 2, 87], [89, 5, 101], [10...</td>\n",
       "    </tr>\n",
       "    <tr>\n",
       "      <th>18</th>\n",
       "      <td>000213</td>\n",
       "      <td>Pop</td>\n",
       "      <td>[[[2, 1, 6], [2, 1, 6], [2, 1, 6], [1, 0, 5], ...</td>\n",
       "    </tr>\n",
       "    <tr>\n",
       "      <th>19</th>\n",
       "      <td>000255</td>\n",
       "      <td>Rock</td>\n",
       "      <td>[[[0, 2, 3], [0, 2, 0], [0, 5, 0], [0, 5, 0], ...</td>\n",
       "    </tr>\n",
       "    <tr>\n",
       "      <th>20</th>\n",
       "      <td>000256</td>\n",
       "      <td>Rock</td>\n",
       "      <td>[[[85, 22, 101], [77, 18, 98], [61, 6, 89], [3...</td>\n",
       "    </tr>\n",
       "    <tr>\n",
       "      <th>21</th>\n",
       "      <td>000368</td>\n",
       "      <td>Rock</td>\n",
       "      <td>[[[14, 0, 59], [17, 0, 59], [20, 0, 60], [25, ...</td>\n",
       "    </tr>\n",
       "    <tr>\n",
       "      <th>22</th>\n",
       "      <td>000424</td>\n",
       "      <td>Experimental</td>\n",
       "      <td>[[[8, 0, 13], [6, 0, 12], [14, 3, 20], [8, 0, ...</td>\n",
       "    </tr>\n",
       "    <tr>\n",
       "      <th>23</th>\n",
       "      <td>000459</td>\n",
       "      <td>Rock</td>\n",
       "      <td>[[[0, 4, 30], [13, 0, 39], [89, 24, 90], [71, ...</td>\n",
       "    </tr>\n",
       "    <tr>\n",
       "      <th>24</th>\n",
       "      <td>000534</td>\n",
       "      <td>Folk</td>\n",
       "      <td>[[[15, 6, 33], [1, 0, 14], [5, 3, 8], [4, 5, 0...</td>\n",
       "    </tr>\n",
       "    <tr>\n",
       "      <th>25</th>\n",
       "      <td>000540</td>\n",
       "      <td>Folk</td>\n",
       "      <td>[[[0, 6, 0], [5, 4, 0], [0, 4, 7], [0, 5, 12],...</td>\n",
       "    </tr>\n",
       "    <tr>\n",
       "      <th>26</th>\n",
       "      <td>000546</td>\n",
       "      <td>Folk</td>\n",
       "      <td>[[[7, 3, 30], [0, 0, 21], [0, 0, 2], [1, 6, 0]...</td>\n",
       "    </tr>\n",
       "    <tr>\n",
       "      <th>27</th>\n",
       "      <td>000574</td>\n",
       "      <td>Rock</td>\n",
       "      <td>[[[30, 0, 63], [48, 11, 80], [57, 13, 88], [45...</td>\n",
       "    </tr>\n",
       "    <tr>\n",
       "      <th>28</th>\n",
       "      <td>000602</td>\n",
       "      <td>Folk</td>\n",
       "      <td>[[[0, 0, 5], [1, 0, 6], [2, 1, 7], [2, 1, 9], ...</td>\n",
       "    </tr>\n",
       "    <tr>\n",
       "      <th>29</th>\n",
       "      <td>000615</td>\n",
       "      <td>Experimental</td>\n",
       "      <td>[[[0, 0, 11], [4, 4, 16], [0, 0, 9], [0, 0, 8]...</td>\n",
       "    </tr>\n",
       "    <tr>\n",
       "      <th>...</th>\n",
       "      <td>...</td>\n",
       "      <td>...</td>\n",
       "      <td>...</td>\n",
       "    </tr>\n",
       "    <tr>\n",
       "      <th>7967</th>\n",
       "      <td>152103</td>\n",
       "      <td>International</td>\n",
       "      <td>[[[254, 255, 255], [233, 234, 236], [254, 255,...</td>\n",
       "    </tr>\n",
       "    <tr>\n",
       "      <th>7968</th>\n",
       "      <td>152253</td>\n",
       "      <td>International</td>\n",
       "      <td>[[[255, 255, 243], [238, 235, 226], [255, 254,...</td>\n",
       "    </tr>\n",
       "    <tr>\n",
       "      <th>7969</th>\n",
       "      <td>152254</td>\n",
       "      <td>International</td>\n",
       "      <td>[[[255, 252, 239], [239, 242, 225], [245, 255,...</td>\n",
       "    </tr>\n",
       "    <tr>\n",
       "      <th>7970</th>\n",
       "      <td>152258</td>\n",
       "      <td>International</td>\n",
       "      <td>[[[247, 255, 253], [234, 249, 244], [247, 255,...</td>\n",
       "    </tr>\n",
       "    <tr>\n",
       "      <th>7971</th>\n",
       "      <td>152261</td>\n",
       "      <td>International</td>\n",
       "      <td>[[[247, 255, 255], [238, 236, 237], [255, 249,...</td>\n",
       "    </tr>\n",
       "    <tr>\n",
       "      <th>7972</th>\n",
       "      <td>152262</td>\n",
       "      <td>International</td>\n",
       "      <td>[[[245, 255, 246], [232, 255, 237], [245, 255,...</td>\n",
       "    </tr>\n",
       "    <tr>\n",
       "      <th>7973</th>\n",
       "      <td>152324</td>\n",
       "      <td>Pop</td>\n",
       "      <td>[[[252, 255, 243], [242, 248, 234], [252, 255,...</td>\n",
       "    </tr>\n",
       "    <tr>\n",
       "      <th>7974</th>\n",
       "      <td>152418</td>\n",
       "      <td>International</td>\n",
       "      <td>[[[238, 255, 255], [231, 243, 239], [255, 254,...</td>\n",
       "    </tr>\n",
       "    <tr>\n",
       "      <th>7975</th>\n",
       "      <td>152425</td>\n",
       "      <td>International</td>\n",
       "      <td>[[[255, 246, 248], [248, 237, 235], [248, 255,...</td>\n",
       "    </tr>\n",
       "    <tr>\n",
       "      <th>7976</th>\n",
       "      <td>152480</td>\n",
       "      <td>Instrumental</td>\n",
       "      <td>[[[255, 251, 253], [244, 240, 241], [248, 255,...</td>\n",
       "    </tr>\n",
       "    <tr>\n",
       "      <th>7977</th>\n",
       "      <td>152543</td>\n",
       "      <td>Hip-Hop</td>\n",
       "      <td>[[[255, 244, 255], [246, 242, 239], [240, 255,...</td>\n",
       "    </tr>\n",
       "    <tr>\n",
       "      <th>7978</th>\n",
       "      <td>152545</td>\n",
       "      <td>Hip-Hop</td>\n",
       "      <td>[[[254, 255, 237], [236, 244, 223], [252, 255,...</td>\n",
       "    </tr>\n",
       "    <tr>\n",
       "      <th>7979</th>\n",
       "      <td>152568</td>\n",
       "      <td>Instrumental</td>\n",
       "      <td>[[[252, 255, 243], [239, 243, 229], [255, 255,...</td>\n",
       "    </tr>\n",
       "    <tr>\n",
       "      <th>7980</th>\n",
       "      <td>152569</td>\n",
       "      <td>Instrumental</td>\n",
       "      <td>[[[255, 255, 255], [235, 235, 237], [255, 255,...</td>\n",
       "    </tr>\n",
       "    <tr>\n",
       "      <th>7981</th>\n",
       "      <td>152570</td>\n",
       "      <td>Instrumental</td>\n",
       "      <td>[[[244, 255, 234], [243, 252, 233], [255, 254,...</td>\n",
       "    </tr>\n",
       "    <tr>\n",
       "      <th>7982</th>\n",
       "      <td>153337</td>\n",
       "      <td>Hip-Hop</td>\n",
       "      <td>[[[255, 254, 255], [237, 239, 225], [255, 255,...</td>\n",
       "    </tr>\n",
       "    <tr>\n",
       "      <th>7983</th>\n",
       "      <td>153383</td>\n",
       "      <td>Pop</td>\n",
       "      <td>[[[255, 251, 251], [248, 238, 237], [255, 254,...</td>\n",
       "    </tr>\n",
       "    <tr>\n",
       "      <th>7984</th>\n",
       "      <td>153452</td>\n",
       "      <td>Pop</td>\n",
       "      <td>[[[252, 255, 243], [236, 242, 228], [252, 255,...</td>\n",
       "    </tr>\n",
       "    <tr>\n",
       "      <th>7985</th>\n",
       "      <td>153946</td>\n",
       "      <td>Folk</td>\n",
       "      <td>[[[255, 255, 255], [235, 235, 233], [255, 255,...</td>\n",
       "    </tr>\n",
       "    <tr>\n",
       "      <th>7986</th>\n",
       "      <td>153955</td>\n",
       "      <td>Pop</td>\n",
       "      <td>[[[255, 248, 255], [246, 234, 244], [255, 254,...</td>\n",
       "    </tr>\n",
       "    <tr>\n",
       "      <th>7987</th>\n",
       "      <td>153956</td>\n",
       "      <td>Pop</td>\n",
       "      <td>[[[247, 255, 255], [245, 245, 253], [255, 251,...</td>\n",
       "    </tr>\n",
       "    <tr>\n",
       "      <th>7988</th>\n",
       "      <td>154303</td>\n",
       "      <td>Hip-Hop</td>\n",
       "      <td>[[[247, 255, 237], [232, 245, 225], [252, 255,...</td>\n",
       "    </tr>\n",
       "    <tr>\n",
       "      <th>7989</th>\n",
       "      <td>154305</td>\n",
       "      <td>Hip-Hop</td>\n",
       "      <td>[[[255, 254, 250], [237, 239, 234], [245, 255,...</td>\n",
       "    </tr>\n",
       "    <tr>\n",
       "      <th>7990</th>\n",
       "      <td>154306</td>\n",
       "      <td>Hip-Hop</td>\n",
       "      <td>[[[255, 255, 236], [236, 237, 229], [255, 253,...</td>\n",
       "    </tr>\n",
       "    <tr>\n",
       "      <th>7991</th>\n",
       "      <td>154307</td>\n",
       "      <td>Hip-Hop</td>\n",
       "      <td>[[[255, 255, 250], [236, 237, 231], [252, 255,...</td>\n",
       "    </tr>\n",
       "    <tr>\n",
       "      <th>7992</th>\n",
       "      <td>154308</td>\n",
       "      <td>Hip-Hop</td>\n",
       "      <td>[[[255, 242, 255], [254, 231, 249], [255, 252,...</td>\n",
       "    </tr>\n",
       "    <tr>\n",
       "      <th>7993</th>\n",
       "      <td>154309</td>\n",
       "      <td>Hip-Hop</td>\n",
       "      <td>[[[243, 255, 255], [249, 246, 255], [255, 254,...</td>\n",
       "    </tr>\n",
       "    <tr>\n",
       "      <th>7994</th>\n",
       "      <td>154413</td>\n",
       "      <td>Pop</td>\n",
       "      <td>[[[254, 255, 250], [234, 239, 232], [251, 255,...</td>\n",
       "    </tr>\n",
       "    <tr>\n",
       "      <th>7995</th>\n",
       "      <td>154414</td>\n",
       "      <td>Pop</td>\n",
       "      <td>[[[255, 255, 250], [240, 242, 231], [254, 255,...</td>\n",
       "    </tr>\n",
       "    <tr>\n",
       "      <th>7996</th>\n",
       "      <td>155066</td>\n",
       "      <td>Hip-Hop</td>\n",
       "      <td>[[[255, 253, 255], [244, 236, 223], [255, 252,...</td>\n",
       "    </tr>\n",
       "  </tbody>\n",
       "</table>\n",
       "<p>7997 rows × 3 columns</p>\n",
       "</div>"
      ],
      "text/plain": [
       "     track_id      genre_top  \\\n",
       "0      000002        Hip-Hop   \n",
       "1      000005        Hip-Hop   \n",
       "2      000010            Pop   \n",
       "3      000140           Folk   \n",
       "4      000141           Folk   \n",
       "5      000148   Experimental   \n",
       "6      000182           Rock   \n",
       "7      000190           Folk   \n",
       "8      000193           Folk   \n",
       "9      000194           Folk   \n",
       "10     000197           Folk   \n",
       "11     000200           Folk   \n",
       "12     000203           Folk   \n",
       "13     000204           Folk   \n",
       "14     000207           Folk   \n",
       "15     000210           Folk   \n",
       "16     000211           Folk   \n",
       "17     000212           Folk   \n",
       "18     000213            Pop   \n",
       "19     000255           Rock   \n",
       "20     000256           Rock   \n",
       "21     000368           Rock   \n",
       "22     000424   Experimental   \n",
       "23     000459           Rock   \n",
       "24     000534           Folk   \n",
       "25     000540           Folk   \n",
       "26     000546           Folk   \n",
       "27     000574           Rock   \n",
       "28     000602           Folk   \n",
       "29     000615   Experimental   \n",
       "...       ...            ...   \n",
       "7967   152103  International   \n",
       "7968   152253  International   \n",
       "7969   152254  International   \n",
       "7970   152258  International   \n",
       "7971   152261  International   \n",
       "7972   152262  International   \n",
       "7973   152324            Pop   \n",
       "7974   152418  International   \n",
       "7975   152425  International   \n",
       "7976   152480   Instrumental   \n",
       "7977   152543        Hip-Hop   \n",
       "7978   152545        Hip-Hop   \n",
       "7979   152568   Instrumental   \n",
       "7980   152569   Instrumental   \n",
       "7981   152570   Instrumental   \n",
       "7982   153337        Hip-Hop   \n",
       "7983   153383            Pop   \n",
       "7984   153452            Pop   \n",
       "7985   153946           Folk   \n",
       "7986   153955            Pop   \n",
       "7987   153956            Pop   \n",
       "7988   154303        Hip-Hop   \n",
       "7989   154305        Hip-Hop   \n",
       "7990   154306        Hip-Hop   \n",
       "7991   154307        Hip-Hop   \n",
       "7992   154308        Hip-Hop   \n",
       "7993   154309        Hip-Hop   \n",
       "7994   154413            Pop   \n",
       "7995   154414            Pop   \n",
       "7996   155066        Hip-Hop   \n",
       "\n",
       "                                                 images  \n",
       "0     [[[117, 43, 68], [70, 23, 69], [13, 0, 56], [6...  \n",
       "1     [[[0, 2, 85], [46, 1, 84], [79, 4, 73], [53, 7...  \n",
       "2     [[[57, 24, 81], [85, 24, 93], [87, 16, 94], [3...  \n",
       "3     [[[21, 0, 49], [0, 0, 25], [0, 9, 9], [0, 6, 0...  \n",
       "4     [[[0, 0, 4], [0, 0, 4], [0, 0, 4], [0, 0, 4], ...  \n",
       "5     [[[0, 5, 27], [0, 0, 25], [5, 6, 37], [2, 0, 3...  \n",
       "6     [[[0, 12, 0], [0, 7, 0], [7, 0, 11], [25, 0, 3...  \n",
       "7     [[[1, 4, 0], [2, 3, 7], [0, 0, 14], [0, 0, 21]...  \n",
       "8     [[[9, 1, 40], [23, 6, 48], [13, 0, 39], [0, 0,...  \n",
       "9     [[[5, 0, 15], [7, 0, 17], [8, 0, 18], [7, 0, 1...  \n",
       "10    [[[0, 4, 0], [0, 1, 3], [0, 0, 12], [0, 0, 14]...  \n",
       "11    [[[0, 0, 12], [0, 0, 9], [0, 0, 4], [1, 1, 0],...  \n",
       "12    [[[27, 0, 30], [41, 8, 63], [20, 0, 50], [6, 0...  \n",
       "13    [[[4, 0, 20], [19, 18, 60], [19, 20, 85], [1, ...  \n",
       "14    [[[2, 2, 0], [2, 0, 10], [2, 0, 24], [1, 0, 17...  \n",
       "15    [[[8, 4, 5], [7, 3, 2], [6, 3, 0], [4, 1, 0], ...  \n",
       "16    [[[53, 5, 43], [23, 0, 44], [7, 0, 44], [0, 1,...  \n",
       "17    [[[41, 15, 76], [54, 2, 87], [89, 5, 101], [10...  \n",
       "18    [[[2, 1, 6], [2, 1, 6], [2, 1, 6], [1, 0, 5], ...  \n",
       "19    [[[0, 2, 3], [0, 2, 0], [0, 5, 0], [0, 5, 0], ...  \n",
       "20    [[[85, 22, 101], [77, 18, 98], [61, 6, 89], [3...  \n",
       "21    [[[14, 0, 59], [17, 0, 59], [20, 0, 60], [25, ...  \n",
       "22    [[[8, 0, 13], [6, 0, 12], [14, 3, 20], [8, 0, ...  \n",
       "23    [[[0, 4, 30], [13, 0, 39], [89, 24, 90], [71, ...  \n",
       "24    [[[15, 6, 33], [1, 0, 14], [5, 3, 8], [4, 5, 0...  \n",
       "25    [[[0, 6, 0], [5, 4, 0], [0, 4, 7], [0, 5, 12],...  \n",
       "26    [[[7, 3, 30], [0, 0, 21], [0, 0, 2], [1, 6, 0]...  \n",
       "27    [[[30, 0, 63], [48, 11, 80], [57, 13, 88], [45...  \n",
       "28    [[[0, 0, 5], [1, 0, 6], [2, 1, 7], [2, 1, 9], ...  \n",
       "29    [[[0, 0, 11], [4, 4, 16], [0, 0, 9], [0, 0, 8]...  \n",
       "...                                                 ...  \n",
       "7967  [[[254, 255, 255], [233, 234, 236], [254, 255,...  \n",
       "7968  [[[255, 255, 243], [238, 235, 226], [255, 254,...  \n",
       "7969  [[[255, 252, 239], [239, 242, 225], [245, 255,...  \n",
       "7970  [[[247, 255, 253], [234, 249, 244], [247, 255,...  \n",
       "7971  [[[247, 255, 255], [238, 236, 237], [255, 249,...  \n",
       "7972  [[[245, 255, 246], [232, 255, 237], [245, 255,...  \n",
       "7973  [[[252, 255, 243], [242, 248, 234], [252, 255,...  \n",
       "7974  [[[238, 255, 255], [231, 243, 239], [255, 254,...  \n",
       "7975  [[[255, 246, 248], [248, 237, 235], [248, 255,...  \n",
       "7976  [[[255, 251, 253], [244, 240, 241], [248, 255,...  \n",
       "7977  [[[255, 244, 255], [246, 242, 239], [240, 255,...  \n",
       "7978  [[[254, 255, 237], [236, 244, 223], [252, 255,...  \n",
       "7979  [[[252, 255, 243], [239, 243, 229], [255, 255,...  \n",
       "7980  [[[255, 255, 255], [235, 235, 237], [255, 255,...  \n",
       "7981  [[[244, 255, 234], [243, 252, 233], [255, 254,...  \n",
       "7982  [[[255, 254, 255], [237, 239, 225], [255, 255,...  \n",
       "7983  [[[255, 251, 251], [248, 238, 237], [255, 254,...  \n",
       "7984  [[[252, 255, 243], [236, 242, 228], [252, 255,...  \n",
       "7985  [[[255, 255, 255], [235, 235, 233], [255, 255,...  \n",
       "7986  [[[255, 248, 255], [246, 234, 244], [255, 254,...  \n",
       "7987  [[[247, 255, 255], [245, 245, 253], [255, 251,...  \n",
       "7988  [[[247, 255, 237], [232, 245, 225], [252, 255,...  \n",
       "7989  [[[255, 254, 250], [237, 239, 234], [245, 255,...  \n",
       "7990  [[[255, 255, 236], [236, 237, 229], [255, 253,...  \n",
       "7991  [[[255, 255, 250], [236, 237, 231], [252, 255,...  \n",
       "7992  [[[255, 242, 255], [254, 231, 249], [255, 252,...  \n",
       "7993  [[[243, 255, 255], [249, 246, 255], [255, 254,...  \n",
       "7994  [[[254, 255, 250], [234, 239, 232], [251, 255,...  \n",
       "7995  [[[255, 255, 250], [240, 242, 231], [254, 255,...  \n",
       "7996  [[[255, 253, 255], [244, 236, 223], [255, 252,...  \n",
       "\n",
       "[7997 rows x 3 columns]"
      ]
     },
     "execution_count": 7,
     "metadata": {},
     "output_type": "execute_result"
    }
   ],
   "source": [
    "train_df"
   ]
  },
  {
   "cell_type": "markdown",
   "metadata": {},
   "source": [
    "df = pd.DataFrame(train_df)\n",
    "df.to_csv(\"imagedata.csv\")\n",
    "\n",
    "* 저장을 해도 여섯자리 string으로 저장이 안됨"
   ]
  },
  {
   "cell_type": "markdown",
   "metadata": {},
   "source": [
    "# Image Cut\n",
    "* 이미지의 여백을 잘라서 저장 \n",
    "* 556*216"
   ]
  },
  {
   "cell_type": "markdown",
   "metadata": {},
   "source": [
    "import scipy.misc\n",
    "for idx in np.unique(train_df[\"track_id\"]):\n",
    "                     img_arr = np.array((load_img(\"../fma-master/img_all/{}.jpg\".format(idx))))\n",
    "                     edit_img = img_arr[11:227,12:568,:]\n",
    "                     scipy.misc.imsave('../fma-master/img_all_edit/{}.jpg'.format(idx), edit_img)\n",
    "            "
   ]
  },
  {
   "cell_type": "code",
   "execution_count": null,
   "metadata": {},
   "outputs": [],
   "source": [
    "#train_df[\"images\"]\n",
    "#train_df[\"images\"].reshape(7997,)"
   ]
  },
  {
   "cell_type": "code",
   "execution_count": null,
   "metadata": {},
   "outputs": [],
   "source": []
  },
  {
   "cell_type": "markdown",
   "metadata": {},
   "source": [
    "# 데이터 정리"
   ]
  },
  {
   "cell_type": "code",
   "execution_count": 8,
   "metadata": {},
   "outputs": [],
   "source": [
    "from sklearn.model_selection import train_test_split"
   ]
  },
  {
   "cell_type": "code",
   "execution_count": 24,
   "metadata": {},
   "outputs": [],
   "source": [
    "#train/test/id/image/x/y등등 구분하는 cell\n",
    "ids_train, ids_valid, x_train, x_valid, y_train, y_valid= train_test_split(\n",
    "    train_df.index.values,\n",
    "    train_df.images, \n",
    "    train_df.genre_top,\n",
    "    test_size=0.2)"
   ]
  },
  {
   "cell_type": "code",
   "execution_count": 25,
   "metadata": {},
   "outputs": [
    {
     "data": {
      "text/plain": [
       "(6397,)"
      ]
     },
     "execution_count": 25,
     "metadata": {},
     "output_type": "execute_result"
    }
   ],
   "source": [
    "ids_train.shape"
   ]
  },
  {
   "cell_type": "code",
   "execution_count": 26,
   "metadata": {},
   "outputs": [
    {
     "data": {
      "text/plain": [
       "(1600,)"
      ]
     },
     "execution_count": 26,
     "metadata": {},
     "output_type": "execute_result"
    }
   ],
   "source": [
    "ids_valid.shape"
   ]
  },
  {
   "cell_type": "code",
   "execution_count": 27,
   "metadata": {
    "scrolled": true
   },
   "outputs": [
    {
     "data": {
      "text/plain": [
       "3315    [[[28, 0, 77], [39, 4, 86], [39, 1, 84], [33, ...\n",
       "6576    [[[45, 12, 81], [62, 16, 88], [38, 0, 59], [29...\n",
       "5923    [[[102, 18, 80], [85, 15, 85], [63, 14, 95], [...\n",
       "2354    [[[63, 15, 115], [99, 30, 113], [79, 0, 72], [...\n",
       "3158    [[[3, 0, 43], [71, 21, 92], [92, 16, 106], [76...\n",
       "1875    [[[0, 0, 4], [0, 0, 4], [0, 0, 4], [0, 0, 4], ...\n",
       "7988    [[[247, 255, 237], [232, 245, 225], [252, 255,...\n",
       "4279    [[[22, 0, 69], [36, 4, 79], [48, 7, 85], [57, ...\n",
       "83      [[[11, 0, 32], [21, 0, 31], [42, 10, 51], [9, ...\n",
       "1661    [[[28, 13, 68], [30, 2, 61], [32, 0, 56], [27,...\n",
       "4465    [[[4, 0, 22], [1, 0, 5], [2, 4, 1], [0, 0, 11]...\n",
       "2263    [[[0, 13, 0], [0, 1, 11], [11, 0, 23], [13, 0,...\n",
       "3302    [[[39, 17, 99], [33, 8, 91], [50, 18, 103], [4...\n",
       "6171    [[[28, 8, 71], [22, 4, 66], [14, 0, 59], [9, 0...\n",
       "4693    [[[59, 7, 56], [43, 0, 46], [28, 2, 49], [0, 3...\n",
       "7227    [[[41, 7, 81], [46, 12, 86], [45, 12, 83], [35...\n",
       "855     [[[71, 30, 106], [63, 16, 108], [57, 9, 118], ...\n",
       "3058    [[[46, 0, 46], [97, 41, 102], [84, 33, 99], [5...\n",
       "1398    [[[52, 0, 60], [46, 0, 62], [26, 11, 54], [0, ...\n",
       "2984    [[[60, 14, 51], [22, 0, 26], [8, 0, 25], [1, 0...\n",
       "3048    [[[0, 1, 31], [3, 0, 27], [13, 0, 27], [52, 20...\n",
       "2191    [[[46, 23, 52], [12, 0, 57], [0, 0, 73], [17, ...\n",
       "714     [[[138, 47, 90], [137, 18, 86], [146, 33, 121]...\n",
       "7670    [[[10, 0, 0], [0, 2, 1], [0, 8, 14], [0, 6, 13...\n",
       "3374    [[[14, 0, 59], [21, 6, 65], [21, 3, 63], [14, ...\n",
       "1458    [[[56, 9, 111], [61, 7, 105], [71, 1, 97], [11...\n",
       "5842    [[[52, 14, 91], [71, 18, 98], [84, 7, 89], [11...\n",
       "214     [[[0, 0, 34], [0, 0, 12], [3, 6, 0], [4, 3, 0]...\n",
       "1463    [[[4, 2, 39], [21, 0, 40], [22, 0, 34], [9, 0,...\n",
       "1075    [[[12, 0, 52], [13, 0, 54], [11, 1, 54], [7, 0...\n",
       "                              ...                        \n",
       "125     [[[29, 10, 40], [8, 0, 21], [12, 2, 29], [34, ...\n",
       "2687    [[[0, 0, 0], [0, 2, 0], [0, 3, 2], [2, 12, 14]...\n",
       "7098    [[[30, 0, 81], [27, 3, 79], [34, 0, 74], [75, ...\n",
       "5571    [[[0, 2, 2], [0, 2, 5], [2, 1, 7], [2, 0, 10],...\n",
       "7779    [[[255, 254, 255], [237, 236, 252], [254, 252,...\n",
       "3418    [[[104, 30, 105], [122, 25, 92], [112, 26, 91]...\n",
       "3258    [[[3, 5, 0], [3, 4, 0], [4, 3, 1], [4, 1, 8], ...\n",
       "2310    [[[18, 0, 17], [88, 44, 97], [67, 15, 81], [25...\n",
       "3941    [[[251, 255, 236], [233, 242, 225], [251, 255,...\n",
       "7125    [[[51, 18, 63], [47, 10, 80], [36, 0, 85], [37...\n",
       "4714    [[[0, 3, 36], [3, 0, 35], [69, 24, 83], [91, 2...\n",
       "7623    [[[1, 0, 6], [1, 0, 6], [1, 0, 6], [1, 0, 6], ...\n",
       "6826    [[[103, 18, 99], [100, 18, 100], [88, 13, 98],...\n",
       "4375    [[[0, 13, 0], [0, 3, 0], [7, 0, 9], [18, 2, 29...\n",
       "2743    [[[0, 7, 0], [0, 0, 7], [8, 0, 23], [25, 0, 45...\n",
       "3612    [[[43, 8, 66], [46, 6, 66], [35, 0, 51], [62, ...\n",
       "4836    [[[45, 9, 57], [37, 4, 49], [26, 0, 41], [15, ...\n",
       "3403    [[[0, 0, 4], [0, 0, 4], [0, 0, 4], [0, 0, 4], ...\n",
       "7888    [[[252, 255, 232], [234, 242, 218], [251, 255,...\n",
       "7091    [[[41, 0, 45], [52, 14, 75], [41, 10, 80], [18...\n",
       "7602    [[[45, 22, 78], [27, 3, 61], [25, 0, 58], [23,...\n",
       "1787    [[[0, 1, 0], [3, 4, 9], [2, 3, 23], [0, 0, 27]...\n",
       "6026    [[[17, 0, 0], [7, 0, 0], [0, 3, 6], [0, 5, 13]...\n",
       "4213    [[[82, 7, 98], [86, 11, 102], [89, 15, 104], [...\n",
       "5992    [[[0, 12, 0], [7, 1, 15], [13, 0, 30], [19, 3,...\n",
       "7872    [[[254, 255, 246], [242, 245, 234], [252, 255,...\n",
       "6075    [[[21, 17, 54], [17, 0, 40], [32, 0, 43], [86,...\n",
       "491     [[[10, 5, 87], [34, 14, 83], [63, 24, 79], [85...\n",
       "786     [[[1, 2, 0], [2, 3, 0], [0, 0, 2], [8, 6, 17],...\n",
       "4473    [[[90, 23, 118], [88, 21, 116], [92, 23, 116],...\n",
       "Name: images, Length: 6397, dtype: object"
      ]
     },
     "execution_count": 27,
     "metadata": {},
     "output_type": "execute_result"
    }
   ],
   "source": [
    "x_train"
   ]
  },
  {
   "cell_type": "code",
   "execution_count": 28,
   "metadata": {},
   "outputs": [
    {
     "data": {
      "text/plain": [
       "(1600,)"
      ]
     },
     "execution_count": 28,
     "metadata": {},
     "output_type": "execute_result"
    }
   ],
   "source": [
    "x_valid.shape"
   ]
  },
  {
   "cell_type": "code",
   "execution_count": 29,
   "metadata": {
    "scrolled": true
   },
   "outputs": [
    {
     "data": {
      "text/plain": [
       "2178    International\n",
       "2626    International\n",
       "4699    International\n",
       "729              Rock\n",
       "1576             Folk\n",
       "2228     Instrumental\n",
       "4862       Electronic\n",
       "2013              Pop\n",
       "4258             Rock\n",
       "5083     Experimental\n",
       "976           Hip-Hop\n",
       "7380     Experimental\n",
       "6792     Experimental\n",
       "4246          Hip-Hop\n",
       "732              Rock\n",
       "7038     Instrumental\n",
       "695      Instrumental\n",
       "5844     Instrumental\n",
       "2058     Experimental\n",
       "1088       Electronic\n",
       "65       Experimental\n",
       "4059       Electronic\n",
       "1447    International\n",
       "5751     Instrumental\n",
       "3286             Folk\n",
       "3890     Experimental\n",
       "7204     Instrumental\n",
       "6184     Instrumental\n",
       "3580     Instrumental\n",
       "3668             Folk\n",
       "            ...      \n",
       "2896     Experimental\n",
       "3713     Experimental\n",
       "6008     Instrumental\n",
       "7748       Electronic\n",
       "6256     Instrumental\n",
       "5076     Instrumental\n",
       "5951     Experimental\n",
       "3640     Instrumental\n",
       "799     International\n",
       "1465    International\n",
       "5917              Pop\n",
       "688           Hip-Hop\n",
       "6963     Experimental\n",
       "7174             Folk\n",
       "7047     Instrumental\n",
       "4106             Rock\n",
       "5446    International\n",
       "1082             Rock\n",
       "959      Experimental\n",
       "5897              Pop\n",
       "920           Hip-Hop\n",
       "3829       Electronic\n",
       "3513    International\n",
       "1276              Pop\n",
       "3261          Hip-Hop\n",
       "1769             Folk\n",
       "5278     Experimental\n",
       "145              Folk\n",
       "5037     Instrumental\n",
       "6109       Electronic\n",
       "Name: genre_top, Length: 1600, dtype: object"
      ]
     },
     "execution_count": 29,
     "metadata": {},
     "output_type": "execute_result"
    }
   ],
   "source": [
    "y_valid"
   ]
  },
  {
   "cell_type": "code",
   "execution_count": 30,
   "metadata": {},
   "outputs": [
    {
     "data": {
      "text/plain": [
       "(6397,)"
      ]
     },
     "execution_count": 30,
     "metadata": {},
     "output_type": "execute_result"
    }
   ],
   "source": [
    "y_train.shape"
   ]
  },
  {
   "cell_type": "markdown",
   "metadata": {},
   "source": [
    "# Build Model\n",
    "* 먼저 간단 모델\n",
    "* ResNet\n",
    "* VGG\n",
    "* extra"
   ]
  },
  {
   "cell_type": "code",
   "execution_count": 33,
   "metadata": {},
   "outputs": [],
   "source": [
    "from keras import layers\n",
    "from keras import models \n",
    "\n",
    "#model.add(layers.Conv2D(32, (3, 3), activation='relu', input_shape=(28, 28, 1)))\n",
    "#model.add(layers.MaxPooling2D((2, 2)))\n",
    "#model.add(layers.Dropout(0.5))\n",
    "#model.add(layers.Flatten())\n",
    "#model.add(layers.Dense(64, activation='softmax'))\n",
    "#model.compile(optimizer='rmsprop', loss='mse', metrics=['mae'])"
   ]
  },
  {
   "cell_type": "markdown",
   "metadata": {},
   "source": [
    "## Model 1"
   ]
  },
  {
   "cell_type": "code",
   "execution_count": 34,
   "metadata": {},
   "outputs": [],
   "source": [
    "def build_model_1():\n",
    "    model = models.Sequential()\n",
    "    model.add(layers.Conv2D(32, (3, 3), activation='relu', input_shape=(28, 28, 1)))\n",
    "    model.add(layers.MaxPooling2D((2, 2)))\n",
    "    model.add(layers.Conv2D(64, (3, 3), activation='relu'))\n",
    "    model.add(layers.MaxPooling2D((2, 2)))\n",
    "    model.add(layers.Conv2D(64, (3, 3), activation='relu'))\n",
    "    model.add(layers.Dropout(0.5))\n",
    "    model.add(layers.Flatten())\n",
    "    model.add(layers.Dense(64, activation='relu'))\n",
    "    model.add(layers.Dense(10, activation='softmax'))\n",
    "    model.compile(optimizer='rmsprop', loss='mse', metrics=['mae'])\n",
    "    return model"
   ]
  },
  {
   "cell_type": "markdown",
   "metadata": {},
   "source": [
    "## Model 2"
   ]
  },
  {
   "cell_type": "code",
   "execution_count": null,
   "metadata": {},
   "outputs": [],
   "source": [
    "def build_model_2():\n",
    "    model = models.Sequential()\n",
    "    model.add(layers.Conv2D(32, (3, 3), activation='relu', input_shape=(28, 28, 1)))\n",
    "    model.add(layers.MaxPooling2D((2, 2)))\n",
    "    model.add(layers.Conv2D(64, (3, 3), activation='relu'))\n",
    "    model.add(layers.MaxPooling2D((2, 2)))\n",
    "    model.add(layers.Conv2D(64, (3, 3), activation='relu'))\n",
    "    model.add(layers.Flatten())\n",
    "    model.add(layers.Dense(64, activation='relu'))\n",
    "    model.add(layers.Dense(10, activation='softmax'))\n",
    "    model.compile(optimizer='rmsprop', loss='mse', metrics=['mae'])\n",
    "    return model"
   ]
  },
  {
   "cell_type": "markdown",
   "metadata": {},
   "source": [
    "## Model 3"
   ]
  },
  {
   "cell_type": "code",
   "execution_count": null,
   "metadata": {},
   "outputs": [],
   "source": [
    "def build_model_3():\n",
    "    model = models.Sequential()\n",
    "    model.add(layers.Conv2D(32, (3, 3), activation='relu', input_shape=(28, 28, 1)))\n",
    "    model.add(layers.MaxPooling2D((2, 2)))\n",
    "    model.add(layers.Conv2D(64, (3, 3), activation='relu'))\n",
    "    model.add(layers.MaxPooling2D((2, 2)))\n",
    "    model.add(layers.Conv2D(64, (3, 3), activation='relu'))\n",
    "    model.add(layers.Flatten())\n",
    "    model.add(layers.Dense(64, activation='relu'))\n",
    "    model.add(layers.Dense(10, activation='softmax'))\n",
    "    model.compile(optimizer='rmsprop', loss='mse', metrics=['mae'])\n",
    "    return model"
   ]
  },
  {
   "cell_type": "code",
   "execution_count": null,
   "metadata": {},
   "outputs": [],
   "source": []
  },
  {
   "cell_type": "code",
   "execution_count": null,
   "metadata": {},
   "outputs": [],
   "source": []
  },
  {
   "cell_type": "markdown",
   "metadata": {},
   "source": [
    "# Select THE Model"
   ]
  },
  {
   "cell_type": "code",
   "execution_count": 35,
   "metadata": {},
   "outputs": [],
   "source": [
    "model=build_model_1()"
   ]
  },
  {
   "cell_type": "code",
   "execution_count": 36,
   "metadata": {},
   "outputs": [
    {
     "name": "stdout",
     "output_type": "stream",
     "text": [
      "_________________________________________________________________\n",
      "Layer (type)                 Output Shape              Param #   \n",
      "=================================================================\n",
      "conv2d_1 (Conv2D)            (None, 26, 26, 32)        320       \n",
      "_________________________________________________________________\n",
      "max_pooling2d_1 (MaxPooling2 (None, 13, 13, 32)        0         \n",
      "_________________________________________________________________\n",
      "conv2d_2 (Conv2D)            (None, 11, 11, 64)        18496     \n",
      "_________________________________________________________________\n",
      "max_pooling2d_2 (MaxPooling2 (None, 5, 5, 64)          0         \n",
      "_________________________________________________________________\n",
      "conv2d_3 (Conv2D)            (None, 3, 3, 64)          36928     \n",
      "_________________________________________________________________\n",
      "dropout_1 (Dropout)          (None, 3, 3, 64)          0         \n",
      "_________________________________________________________________\n",
      "flatten_1 (Flatten)          (None, 576)               0         \n",
      "_________________________________________________________________\n",
      "dense_1 (Dense)              (None, 64)                36928     \n",
      "_________________________________________________________________\n",
      "dense_2 (Dense)              (None, 10)                650       \n",
      "=================================================================\n",
      "Total params: 93,322\n",
      "Trainable params: 93,322\n",
      "Non-trainable params: 0\n",
      "_________________________________________________________________\n"
     ]
    }
   ],
   "source": [
    "model.summary()"
   ]
  },
  {
   "cell_type": "markdown",
   "metadata": {},
   "source": [
    "# Fit"
   ]
  },
  {
   "cell_type": "code",
   "execution_count": 39,
   "metadata": {},
   "outputs": [
    {
     "ename": "NameError",
     "evalue": "name 'train_images' is not defined",
     "output_type": "error",
     "traceback": [
      "\u001b[1;31m---------------------------------------------------------------------------\u001b[0m",
      "\u001b[1;31mNameError\u001b[0m                                 Traceback (most recent call last)",
      "\u001b[1;32m<ipython-input-39-68f402c82258>\u001b[0m in \u001b[0;36m<module>\u001b[1;34m()\u001b[0m\n\u001b[0;32m      2\u001b[0m               \u001b[0mloss\u001b[0m\u001b[1;33m=\u001b[0m\u001b[1;34m'categorical_crossentropy'\u001b[0m\u001b[1;33m,\u001b[0m\u001b[1;33m\u001b[0m\u001b[0m\n\u001b[0;32m      3\u001b[0m               metrics=['accuracy'])\n\u001b[1;32m----> 4\u001b[1;33m \u001b[0mmodel\u001b[0m\u001b[1;33m.\u001b[0m\u001b[0mfit\u001b[0m\u001b[1;33m(\u001b[0m\u001b[0mtrain_images\u001b[0m\u001b[1;33m,\u001b[0m \u001b[0mtrain_labels\u001b[0m\u001b[1;33m,\u001b[0m \u001b[0mepochs\u001b[0m\u001b[1;33m=\u001b[0m\u001b[1;36m5\u001b[0m\u001b[1;33m,\u001b[0m \u001b[0mbatch_size\u001b[0m\u001b[1;33m=\u001b[0m\u001b[1;36m64\u001b[0m\u001b[1;33m)\u001b[0m\u001b[1;33m\u001b[0m\u001b[0m\n\u001b[0m",
      "\u001b[1;31mNameError\u001b[0m: name 'train_images' is not defined"
     ]
    }
   ],
   "source": [
    "model.compile(optimizer='rmsprop',\n",
    "              loss='categorical_crossentropy',\n",
    "              metrics=['accuracy'])\n",
    "model.fit(train_images, train_labels, epochs=5, batch_size=64)"
   ]
  },
  {
   "cell_type": "code",
   "execution_count": null,
   "metadata": {},
   "outputs": [],
   "source": []
  },
  {
   "cell_type": "markdown",
   "metadata": {},
   "source": [
    "# Evaluate"
   ]
  },
  {
   "cell_type": "code",
   "execution_count": null,
   "metadata": {},
   "outputs": [],
   "source": [
    "test_loss, test_acc = model.evaluate(test_images, test_labels)"
   ]
  },
  {
   "cell_type": "code",
   "execution_count": null,
   "metadata": {},
   "outputs": [],
   "source": []
  },
  {
   "cell_type": "code",
   "execution_count": 37,
   "metadata": {},
   "outputs": [],
   "source": []
  },
  {
   "cell_type": "code",
   "execution_count": null,
   "metadata": {},
   "outputs": [],
   "source": []
  },
  {
   "cell_type": "code",
   "execution_count": null,
   "metadata": {},
   "outputs": [],
   "source": []
  }
 ],
 "metadata": {
  "kernelspec": {
   "display_name": "Python 3",
   "language": "python",
   "name": "python3"
  },
  "language_info": {
   "codemirror_mode": {
    "name": "ipython",
    "version": 3
   },
   "file_extension": ".py",
   "mimetype": "text/x-python",
   "name": "python",
   "nbconvert_exporter": "python",
   "pygments_lexer": "ipython3",
   "version": "3.5.2"
  }
 },
 "nbformat": 4,
 "nbformat_minor": 2
}
